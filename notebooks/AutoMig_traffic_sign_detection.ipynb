{
  "nbformat": 4,
  "nbformat_minor": 0,
  "metadata": {
    "colab": {
      "name": "AutoMig_traffic_sign_detection.ipynb",
      "provenance": [],
      "collapsed_sections": []
    },
    "kernelspec": {
      "name": "python3",
      "display_name": "Python 3"
    },
    "language_info": {
      "name": "python"
    }
  },
  "cells": [
    {
      "cell_type": "markdown",
      "source": [
        "Si se usa Colab, instalar las dependencias de tensorflow lite"
      ],
      "metadata": {
        "id": "PFBl8xfMc6Ry"
      }
    },
    {
      "cell_type": "code",
      "execution_count": 3,
      "metadata": {
        "id": "L19eX9nCgNoN",
        "colab": {
          "base_uri": "https://localhost:8080/"
        },
        "outputId": "32cfe086-1fb0-4105-c808-f609f27e2054"
      },
      "outputs": [
        {
          "output_type": "stream",
          "name": "stdout",
          "text": [
            "\u001b[K     |████████████████████████████████| 642 kB 5.1 MB/s \n",
            "\u001b[K     |████████████████████████████████| 120 kB 42.4 MB/s \n",
            "\u001b[K     |████████████████████████████████| 840 kB 52.0 MB/s \n",
            "\u001b[K     |████████████████████████████████| 6.4 MB 44.3 MB/s \n",
            "\u001b[K     |████████████████████████████████| 10.9 MB 23.0 MB/s \n",
            "\u001b[K     |████████████████████████████████| 237 kB 58.5 MB/s \n",
            "\u001b[K     |████████████████████████████████| 3.4 MB 45.1 MB/s \n",
            "\u001b[K     |████████████████████████████████| 77 kB 6.3 MB/s \n",
            "\u001b[K     |████████████████████████████████| 87 kB 6.3 MB/s \n",
            "\u001b[K     |████████████████████████████████| 42.6 MB 1.2 MB/s \n",
            "\u001b[K     |████████████████████████████████| 1.2 MB 47.1 MB/s \n",
            "\u001b[K     |████████████████████████████████| 596 kB 58.0 MB/s \n",
            "\u001b[K     |████████████████████████████████| 1.1 MB 47.5 MB/s \n",
            "\u001b[K     |████████████████████████████████| 25.3 MB 1.2 MB/s \n",
            "\u001b[K     |████████████████████████████████| 99 kB 8.1 MB/s \n",
            "\u001b[K     |████████████████████████████████| 48.3 MB 86 kB/s \n",
            "\u001b[K     |████████████████████████████████| 352 kB 75.9 MB/s \n",
            "\u001b[K     |████████████████████████████████| 40 kB 4.5 MB/s \n",
            "\u001b[K     |████████████████████████████████| 42.6 MB 1.2 MB/s \n",
            "\u001b[K     |████████████████████████████████| 42.6 MB 1.2 MB/s \n",
            "\u001b[K     |████████████████████████████████| 42.6 MB 1.4 MB/s \n",
            "\u001b[K     |████████████████████████████████| 42.6 MB 1.3 MB/s \n",
            "\u001b[K     |████████████████████████████████| 42.6 MB 131 kB/s \n",
            "\u001b[K     |████████████████████████████████| 42.6 MB 1.7 MB/s \n",
            "\u001b[K     |████████████████████████████████| 42.6 MB 1.2 MB/s \n",
            "\u001b[K     |████████████████████████████████| 42.6 MB 1.2 MB/s \n",
            "\u001b[K     |████████████████████████████████| 42.6 MB 1.1 MB/s \n",
            "\u001b[K     |████████████████████████████████| 42.6 MB 1.3 MB/s \n",
            "\u001b[K     |████████████████████████████████| 42.6 MB 1.3 MB/s \n",
            "\u001b[K     |████████████████████████████████| 42.6 MB 1.2 MB/s \n",
            "\u001b[K     |████████████████████████████████| 42.6 MB 1.4 MB/s \n",
            "\u001b[K     |████████████████████████████████| 42.5 MB 1.4 MB/s \n",
            "\u001b[K     |████████████████████████████████| 1.1 MB 53.0 MB/s \n",
            "\u001b[K     |████████████████████████████████| 213 kB 50.5 MB/s \n",
            "\u001b[?25h  Building wheel for fire (setup.py) ... \u001b[?25l\u001b[?25hdone\n",
            "  Building wheel for py-cpuinfo (setup.py) ... \u001b[?25l\u001b[?25hdone\n",
            "\u001b[31mERROR: pip's dependency resolver does not currently take into account all the packages that are installed. This behaviour is the source of the following dependency conflicts.\n",
            "datascience 0.10.6 requires folium==0.2.1, but you have folium 0.8.3 which is incompatible.\u001b[0m\n",
            "\u001b[K     |████████████████████████████████| 42.5 MB 192 kB/s \n",
            "\u001b[?25h"
          ]
        }
      ],
      "source": [
        "!pip install -q tflite-model-maker\n",
        "!pip install -q tflite-support"
      ]
    },
    {
      "cell_type": "markdown",
      "source": [
        "Montar google drive si se usa colab.\n",
        "\n",
        "Cambiar los directorios por los que se quieran usar para los datos de entrenamiento"
      ],
      "metadata": {
        "id": "sxUaeXitdKbA"
      }
    },
    {
      "cell_type": "code",
      "source": [
        "# Montar google drive\n",
        "from google.colab import drive\n",
        "drive.mount('/content/gdrive')\n",
        "model_output_dir = '/content/gdrive/My Drive/Colab Notebooks/ObjectDetection'\n",
        "train_dir = '/content/gdrive/My Drive/Colab Notebooks/ObjectDetection/imgs_out/train'\n",
        "valid_dir = '/content/gdrive/My Drive/Colab Notebooks/ObjectDetection/imgs_out/validation'\n",
        "test_dir = '/content/gdrive/My Drive/Colab Notebooks/ObjectDetection/imgs_out/not_labeled'\n",
        "\n",
        "#!ls '$train_dir'"
      ],
      "metadata": {
        "id": "UuXS6W8gnMUo",
        "colab": {
          "base_uri": "https://localhost:8080/"
        },
        "outputId": "493de603-a55a-43ad-fafb-1ff1e253ced1"
      },
      "execution_count": 4,
      "outputs": [
        {
          "output_type": "stream",
          "name": "stdout",
          "text": [
            "Mounted at /content/gdrive\n"
          ]
        }
      ]
    },
    {
      "cell_type": "markdown",
      "source": [
        "Importar librerías necesarias\n"
      ],
      "metadata": {
        "id": "wEV4KiOMdBsM"
      }
    },
    {
      "cell_type": "code",
      "source": [
        "import numpy as np\n",
        "import os\n",
        "\n",
        "from tflite_model_maker.config import ExportFormat, QuantizationConfig\n",
        "from tflite_model_maker import model_spec\n",
        "from tflite_model_maker import object_detector\n",
        "\n",
        "from tflite_support import metadata\n",
        "\n",
        "import tensorflow as tf\n",
        "assert tf.__version__.startswith('2')\n",
        "\n",
        "tf.get_logger().setLevel('ERROR')\n",
        "from absl import logging\n",
        "logging.set_verbosity(logging.ERROR)"
      ],
      "metadata": {
        "id": "3tG06zmnnKWP"
      },
      "execution_count": 5,
      "outputs": []
    },
    {
      "cell_type": "markdown",
      "source": [
        "Obtener los datos de entrenamiento y validación"
      ],
      "metadata": {
        "id": "xaGBNg3mdTwF"
      }
    },
    {
      "cell_type": "code",
      "source": [
        "train_data = object_detector.DataLoader.from_pascal_voc(\n",
        "    train_dir,\n",
        "    train_dir,\n",
        "    ['stop', 'turn_right']\n",
        ")\n",
        "\n",
        "val_data = object_detector.DataLoader.from_pascal_voc(\n",
        "    valid_dir,\n",
        "    valid_dir,\n",
        "    ['stop', 'turn_right']\n",
        ")"
      ],
      "metadata": {
        "id": "QT03qes8poHI"
      },
      "execution_count": 6,
      "outputs": []
    },
    {
      "cell_type": "markdown",
      "source": [
        "El modelo base para la detección de objetos será EfficientDet_lite0. No es el mas preciso pero es muy ligero."
      ],
      "metadata": {
        "id": "TXuwEQO1dZDf"
      }
    },
    {
      "cell_type": "code",
      "source": [
        "spec = model_spec.get('efficientdet_lite0')"
      ],
      "metadata": {
        "id": "SXCSB4TIpgrn"
      },
      "execution_count": 7,
      "outputs": []
    },
    {
      "cell_type": "markdown",
      "source": [
        "Entrenar el modelo con los datos obtenidos de señales de trafico."
      ],
      "metadata": {
        "id": "DB4cjv9ddkro"
      }
    },
    {
      "cell_type": "code",
      "source": [
        "model = object_detector.create(train_data, model_spec=spec, batch_size=4, train_whole_model=True, epochs=20, validation_data=val_data)"
      ],
      "metadata": {
        "colab": {
          "base_uri": "https://localhost:8080/"
        },
        "id": "8-ZTeXS6phH8",
        "outputId": "9cd55a42-a141-42fc-ff3f-ea6e2d3e0204"
      },
      "execution_count": 13,
      "outputs": [
        {
          "output_type": "stream",
          "name": "stdout",
          "text": [
            "Epoch 1/20\n",
            "24/24 [==============================] - 93s 2s/step - det_loss: 1.7484 - cls_loss: 1.0930 - box_loss: 0.0131 - reg_l2_loss: 0.0630 - loss: 1.8113 - learning_rate: 0.0065 - gradient_norm: 2.1972 - val_det_loss: 1.4305 - val_cls_loss: 0.9884 - val_box_loss: 0.0088 - val_reg_l2_loss: 0.0630 - val_loss: 1.4935\n",
            "Epoch 2/20\n",
            "24/24 [==============================] - 55s 2s/step - det_loss: 1.3694 - cls_loss: 0.8023 - box_loss: 0.0113 - reg_l2_loss: 0.0630 - loss: 1.4324 - learning_rate: 0.0049 - gradient_norm: 3.4927 - val_det_loss: 0.7390 - val_cls_loss: 0.4589 - val_box_loss: 0.0056 - val_reg_l2_loss: 0.0630 - val_loss: 0.8021\n",
            "Epoch 3/20\n",
            "24/24 [==============================] - 55s 2s/step - det_loss: 0.7404 - cls_loss: 0.4357 - box_loss: 0.0061 - reg_l2_loss: 0.0630 - loss: 0.8034 - learning_rate: 0.0048 - gradient_norm: 2.3699 - val_det_loss: 0.5540 - val_cls_loss: 0.3501 - val_box_loss: 0.0041 - val_reg_l2_loss: 0.0630 - val_loss: 0.6170\n",
            "Epoch 4/20\n",
            "24/24 [==============================] - 52s 2s/step - det_loss: 0.6115 - cls_loss: 0.3600 - box_loss: 0.0050 - reg_l2_loss: 0.0630 - loss: 0.6746 - learning_rate: 0.0046 - gradient_norm: 2.8048 - val_det_loss: 0.4344 - val_cls_loss: 0.3016 - val_box_loss: 0.0027 - val_reg_l2_loss: 0.0630 - val_loss: 0.4974\n",
            "Epoch 5/20\n",
            "24/24 [==============================] - 61s 3s/step - det_loss: 0.5487 - cls_loss: 0.3299 - box_loss: 0.0044 - reg_l2_loss: 0.0630 - loss: 0.6118 - learning_rate: 0.0043 - gradient_norm: 2.8230 - val_det_loss: 0.4764 - val_cls_loss: 0.3488 - val_box_loss: 0.0026 - val_reg_l2_loss: 0.0631 - val_loss: 0.5395\n",
            "Epoch 6/20\n",
            "24/24 [==============================] - 53s 2s/step - det_loss: 0.4055 - cls_loss: 0.2602 - box_loss: 0.0029 - reg_l2_loss: 0.0631 - loss: 0.4685 - learning_rate: 0.0040 - gradient_norm: 2.1272 - val_det_loss: 0.3901 - val_cls_loss: 0.2776 - val_box_loss: 0.0022 - val_reg_l2_loss: 0.0631 - val_loss: 0.4531\n",
            "Epoch 7/20\n",
            "24/24 [==============================] - 53s 2s/step - det_loss: 0.4617 - cls_loss: 0.2799 - box_loss: 0.0036 - reg_l2_loss: 0.0631 - loss: 0.5247 - learning_rate: 0.0037 - gradient_norm: 2.8775 - val_det_loss: 0.4700 - val_cls_loss: 0.2388 - val_box_loss: 0.0046 - val_reg_l2_loss: 0.0631 - val_loss: 0.5331\n",
            "Epoch 8/20\n",
            "24/24 [==============================] - 52s 2s/step - det_loss: 0.3504 - cls_loss: 0.2307 - box_loss: 0.0024 - reg_l2_loss: 0.0631 - loss: 0.4134 - learning_rate: 0.0033 - gradient_norm: 2.2259 - val_det_loss: 0.3533 - val_cls_loss: 0.2320 - val_box_loss: 0.0024 - val_reg_l2_loss: 0.0631 - val_loss: 0.4164\n",
            "Epoch 9/20\n",
            "24/24 [==============================] - 52s 2s/step - det_loss: 0.3617 - cls_loss: 0.2444 - box_loss: 0.0023 - reg_l2_loss: 0.0631 - loss: 0.4248 - learning_rate: 0.0029 - gradient_norm: 2.6269 - val_det_loss: 0.2714 - val_cls_loss: 0.2141 - val_box_loss: 0.0011 - val_reg_l2_loss: 0.0631 - val_loss: 0.3344\n",
            "Epoch 10/20\n",
            "24/24 [==============================] - 57s 2s/step - det_loss: 0.3140 - cls_loss: 0.2105 - box_loss: 0.0021 - reg_l2_loss: 0.0631 - loss: 0.3770 - learning_rate: 0.0025 - gradient_norm: 1.9685 - val_det_loss: 0.2494 - val_cls_loss: 0.1933 - val_box_loss: 0.0011 - val_reg_l2_loss: 0.0631 - val_loss: 0.3125\n",
            "Epoch 11/20\n",
            "24/24 [==============================] - 52s 2s/step - det_loss: 0.2824 - cls_loss: 0.1965 - box_loss: 0.0017 - reg_l2_loss: 0.0631 - loss: 0.3455 - learning_rate: 0.0021 - gradient_norm: 1.7379 - val_det_loss: 0.2361 - val_cls_loss: 0.1776 - val_box_loss: 0.0012 - val_reg_l2_loss: 0.0631 - val_loss: 0.2992\n",
            "Epoch 12/20\n",
            "24/24 [==============================] - 52s 2s/step - det_loss: 0.2878 - cls_loss: 0.1988 - box_loss: 0.0018 - reg_l2_loss: 0.0631 - loss: 0.3509 - learning_rate: 0.0017 - gradient_norm: 2.0843 - val_det_loss: 0.2212 - val_cls_loss: 0.1824 - val_box_loss: 7.7470e-04 - val_reg_l2_loss: 0.0631 - val_loss: 0.2843\n",
            "Epoch 13/20\n",
            "24/24 [==============================] - 55s 2s/step - det_loss: 0.2475 - cls_loss: 0.1782 - box_loss: 0.0014 - reg_l2_loss: 0.0631 - loss: 0.3106 - learning_rate: 0.0013 - gradient_norm: 1.7395 - val_det_loss: 0.2070 - val_cls_loss: 0.1768 - val_box_loss: 6.0218e-04 - val_reg_l2_loss: 0.0631 - val_loss: 0.2700\n",
            "Epoch 14/20\n",
            "24/24 [==============================] - 53s 2s/step - det_loss: 0.2657 - cls_loss: 0.1918 - box_loss: 0.0015 - reg_l2_loss: 0.0631 - loss: 0.3288 - learning_rate: 9.6687e-04 - gradient_norm: 1.8833 - val_det_loss: 0.2014 - val_cls_loss: 0.1718 - val_box_loss: 5.9180e-04 - val_reg_l2_loss: 0.0631 - val_loss: 0.2645\n",
            "Epoch 15/20\n",
            "24/24 [==============================] - 56s 2s/step - det_loss: 0.2693 - cls_loss: 0.1948 - box_loss: 0.0015 - reg_l2_loss: 0.0631 - loss: 0.3324 - learning_rate: 6.6338e-04 - gradient_norm: 1.8126 - val_det_loss: 0.2011 - val_cls_loss: 0.1701 - val_box_loss: 6.2107e-04 - val_reg_l2_loss: 0.0631 - val_loss: 0.2642\n",
            "Epoch 16/20\n",
            "24/24 [==============================] - 53s 2s/step - det_loss: 0.3234 - cls_loss: 0.2273 - box_loss: 0.0019 - reg_l2_loss: 0.0631 - loss: 0.3864 - learning_rate: 4.1000e-04 - gradient_norm: 2.4883 - val_det_loss: 0.1991 - val_cls_loss: 0.1703 - val_box_loss: 5.7559e-04 - val_reg_l2_loss: 0.0631 - val_loss: 0.2622\n",
            "Epoch 17/20\n",
            "24/24 [==============================] - 54s 2s/step - det_loss: 0.2637 - cls_loss: 0.1907 - box_loss: 0.0015 - reg_l2_loss: 0.0631 - loss: 0.3267 - learning_rate: 2.1362e-04 - gradient_norm: 1.8805 - val_det_loss: 0.1985 - val_cls_loss: 0.1715 - val_box_loss: 5.4140e-04 - val_reg_l2_loss: 0.0631 - val_loss: 0.2616\n",
            "Epoch 18/20\n",
            "24/24 [==============================] - 54s 2s/step - det_loss: 0.2469 - cls_loss: 0.1817 - box_loss: 0.0013 - reg_l2_loss: 0.0631 - loss: 0.3100 - learning_rate: 7.9605e-05 - gradient_norm: 1.8321 - val_det_loss: 0.1990 - val_cls_loss: 0.1696 - val_box_loss: 5.8846e-04 - val_reg_l2_loss: 0.0631 - val_loss: 0.2621\n",
            "Epoch 19/20\n",
            "24/24 [==============================] - 54s 2s/step - det_loss: 0.2456 - cls_loss: 0.1805 - box_loss: 0.0013 - reg_l2_loss: 0.0631 - loss: 0.3087 - learning_rate: 1.1615e-05 - gradient_norm: 1.6740 - val_det_loss: 0.1976 - val_cls_loss: 0.1683 - val_box_loss: 5.8566e-04 - val_reg_l2_loss: 0.0631 - val_loss: 0.2606\n",
            "Epoch 20/20\n",
            "24/24 [==============================] - 56s 2s/step - det_loss: 0.2464 - cls_loss: 0.1825 - box_loss: 0.0013 - reg_l2_loss: 0.0631 - loss: 0.3095 - learning_rate: 1.1501e-05 - gradient_norm: 1.7582 - val_det_loss: 0.1965 - val_cls_loss: 0.1668 - val_box_loss: 5.9323e-04 - val_reg_l2_loss: 0.0631 - val_loss: 0.2596\n"
          ]
        }
      ]
    },
    {
      "cell_type": "markdown",
      "source": [
        ""
      ],
      "metadata": {
        "id": "saNZKhc-hFHN"
      }
    },
    {
      "cell_type": "markdown",
      "source": [
        "Estructura del modelo"
      ],
      "metadata": {
        "id": "xP7jPCu1jvxy"
      }
    },
    {
      "cell_type": "code",
      "source": [
        "print(model.summary())"
      ],
      "metadata": {
        "colab": {
          "base_uri": "https://localhost:8080/"
        },
        "id": "odtZTbHohFqD",
        "outputId": "bd2e43aa-9b59-47e0-a9c6-aaf13de59d92"
      },
      "execution_count": 12,
      "outputs": [
        {
          "output_type": "stream",
          "name": "stdout",
          "text": [
            "Model: \"\"\n",
            "_________________________________________________________________\n",
            " Layer (type)                Output Shape              Param #   \n",
            "=================================================================\n",
            " keras_layer_1 (KerasLayer)  multiple                  3234464   \n",
            "                                                                 \n",
            " class_net/class-predict (Se  multiple                 1746      \n",
            " parableConv2D)                                                  \n",
            "                                                                 \n",
            " box_net/box-predict (Separa  multiple                 2916      \n",
            " bleConv2D)                                                      \n",
            "                                                                 \n",
            "=================================================================\n",
            "Total params: 3,239,126\n",
            "Trainable params: 3,191,990\n",
            "Non-trainable params: 47,136\n",
            "_________________________________________________________________\n",
            "None\n"
          ]
        }
      ]
    },
    {
      "cell_type": "markdown",
      "source": [
        "Evaluación del modelo antes de ser exportado"
      ],
      "metadata": {
        "id": "XKtTNmV_j2xR"
      }
    },
    {
      "cell_type": "code",
      "source": [
        "model.evaluate(val_data)"
      ],
      "metadata": {
        "colab": {
          "base_uri": "https://localhost:8080/"
        },
        "id": "fQdg2RbrpjOl",
        "outputId": "4d2fade4-6963-49f5-e3e1-36e9a246ddd5"
      },
      "execution_count": null,
      "outputs": [
        {
          "output_type": "stream",
          "name": "stdout",
          "text": [
            "\r1/1 [==============================] - 7s 7s/step\n",
            "\n"
          ]
        },
        {
          "output_type": "execute_result",
          "data": {
            "text/plain": [
              "{'AP': 0.7273665,\n",
              " 'AP50': 1.0,\n",
              " 'AP75': 1.0,\n",
              " 'AP_/stop': 0.65683407,\n",
              " 'AP_/turn_right': 0.79789895,\n",
              " 'APl': -1.0,\n",
              " 'APm': 0.7277677,\n",
              " 'APs': -1.0,\n",
              " 'ARl': -1.0,\n",
              " 'ARm': 0.78333336,\n",
              " 'ARmax1': 0.7361111,\n",
              " 'ARmax10': 0.78333336,\n",
              " 'ARmax100': 0.78333336,\n",
              " 'ARs': -1.0}"
            ]
          },
          "metadata": {},
          "execution_count": 17
        }
      ]
    },
    {
      "cell_type": "markdown",
      "source": [
        "Esportar el modelo"
      ],
      "metadata": {
        "id": "PXLPbg6Xjcqg"
      }
    },
    {
      "cell_type": "code",
      "source": [
        "model.export(export_dir=model_output_dir, tflite_filename='trafficDetection.tflite')"
      ],
      "metadata": {
        "id": "vMwofal_p-BB"
      },
      "execution_count": null,
      "outputs": []
    },
    {
      "cell_type": "markdown",
      "source": [
        "Evaluación de resultados del modelo despues de ser exportado"
      ],
      "metadata": {
        "id": "_-8J0BcDjebt"
      }
    },
    {
      "cell_type": "code",
      "source": [
        "model.evaluate_tflite('trafficDetection.tflite', val_data)"
      ],
      "metadata": {
        "colab": {
          "base_uri": "https://localhost:8080/"
        },
        "id": "_RA5V96fuHtv",
        "outputId": "08913db0-35c0-4e44-c1c3-be4b0fc1bf6d"
      },
      "execution_count": null,
      "outputs": [
        {
          "output_type": "stream",
          "name": "stdout",
          "text": [
            "18/18 [==============================] - 53s 3s/step\n",
            "\n"
          ]
        },
        {
          "output_type": "execute_result",
          "data": {
            "text/plain": [
              "{'AP': 0.7218716,\n",
              " 'AP50': 1.0,\n",
              " 'AP75': 0.95352036,\n",
              " 'AP_/stop': 0.63359815,\n",
              " 'AP_/turn_right': 0.81014514,\n",
              " 'APl': -1.0,\n",
              " 'APm': 0.7218716,\n",
              " 'APs': -1.0,\n",
              " 'ARl': -1.0,\n",
              " 'ARm': 0.7416667,\n",
              " 'ARmax1': 0.7416667,\n",
              " 'ARmax10': 0.7416667,\n",
              " 'ARmax100': 0.7416667,\n",
              " 'ARs': -1.0}"
            ]
          },
          "metadata": {},
          "execution_count": 20
        }
      ]
    },
    {
      "cell_type": "markdown",
      "source": [
        "Si se está usando Colab, para descargar el modelo directamente al PC"
      ],
      "metadata": {
        "id": "coLSVLDFjW3p"
      }
    },
    {
      "cell_type": "code",
      "source": [
        "\n",
        "from google.colab import files\n",
        "files.download('trafficDetection.tflite')"
      ],
      "metadata": {
        "colab": {
          "base_uri": "https://localhost:8080/",
          "height": 17
        },
        "id": "oPxhNxd8uILH",
        "outputId": "4e19eedc-3047-4be5-8c1f-7ac253a6fd24"
      },
      "execution_count": null,
      "outputs": [
        {
          "output_type": "display_data",
          "data": {
            "text/plain": [
              "<IPython.core.display.Javascript object>"
            ],
            "application/javascript": [
              "\n",
              "    async function download(id, filename, size) {\n",
              "      if (!google.colab.kernel.accessAllowed) {\n",
              "        return;\n",
              "      }\n",
              "      const div = document.createElement('div');\n",
              "      const label = document.createElement('label');\n",
              "      label.textContent = `Downloading \"${filename}\": `;\n",
              "      div.appendChild(label);\n",
              "      const progress = document.createElement('progress');\n",
              "      progress.max = size;\n",
              "      div.appendChild(progress);\n",
              "      document.body.appendChild(div);\n",
              "\n",
              "      const buffers = [];\n",
              "      let downloaded = 0;\n",
              "\n",
              "      const channel = await google.colab.kernel.comms.open(id);\n",
              "      // Send a message to notify the kernel that we're ready.\n",
              "      channel.send({})\n",
              "\n",
              "      for await (const message of channel.messages) {\n",
              "        // Send a message to notify the kernel that we're ready.\n",
              "        channel.send({})\n",
              "        if (message.buffers) {\n",
              "          for (const buffer of message.buffers) {\n",
              "            buffers.push(buffer);\n",
              "            downloaded += buffer.byteLength;\n",
              "            progress.value = downloaded;\n",
              "          }\n",
              "        }\n",
              "      }\n",
              "      const blob = new Blob(buffers, {type: 'application/binary'});\n",
              "      const a = document.createElement('a');\n",
              "      a.href = window.URL.createObjectURL(blob);\n",
              "      a.download = filename;\n",
              "      div.appendChild(a);\n",
              "      a.click();\n",
              "      div.remove();\n",
              "    }\n",
              "  "
            ]
          },
          "metadata": {}
        },
        {
          "output_type": "display_data",
          "data": {
            "text/plain": [
              "<IPython.core.display.Javascript object>"
            ],
            "application/javascript": [
              "download(\"download_b38acbba-3555-47b9-96b3-68629358b7b2\", \"trafficDetection.tflite\", 4444722)"
            ]
          },
          "metadata": {}
        }
      ]
    }
  ]
}